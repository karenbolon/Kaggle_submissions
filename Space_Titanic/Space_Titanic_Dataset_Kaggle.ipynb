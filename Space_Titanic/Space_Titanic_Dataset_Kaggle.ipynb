{
 "cells": [
  {
   "cell_type": "markdown",
   "id": "a279f232",
   "metadata": {},
   "source": [
    "Goal: To predict whether passengers were correctly transported to another dimension"
   ]
  },
  {
   "cell_type": "markdown",
   "id": "ba8dfcf9",
   "metadata": {
    "heading_collapsed": true
   },
   "source": [
    "# Import libraries and Data"
   ]
  },
  {
   "cell_type": "code",
   "execution_count": 68,
   "id": "bb0fb73e",
   "metadata": {
    "hidden": true
   },
   "outputs": [],
   "source": [
    "import pandas as pd\n",
    "import seaborn as sns\n",
    "import numpy as np\n",
    "import matplotlib.pyplot as plt\n",
    "%matplotlib inline\n",
    "\n",
    "from sklearn.impute import SimpleImputer\n",
    "from sklearn.preprocessing import OneHotEncoder\n",
    "from sklearn.pipeline import make_pipeline\n",
    "from sklearn.compose import ColumnTransformer\n",
    "\n",
    "from sklearn.model_selection import train_test_split\n",
    "from sklearn.ensemble import RandomForestClassifier \n",
    "from sklearn.metrics import precision_score, recall_score, f1_score\n",
    "from sklearn.metrics import confusion_matrix, ConfusionMatrixDisplay\n",
    "from sklearn.model_selection import cross_val_score\n",
    "\n",
    "from sklearn.svm import SVC\n",
    "from sklearn.preprocessing import MinMaxScaler\n",
    "from sklearn.preprocessing import StandardScaler\n",
    "from sklearn.linear_model import LogisticRegression"
   ]
  },
  {
   "cell_type": "code",
   "execution_count": 2,
   "id": "9b67d134",
   "metadata": {
    "hidden": true
   },
   "outputs": [
    {
     "data": {
      "text/html": [
       "<div>\n",
       "<style scoped>\n",
       "    .dataframe tbody tr th:only-of-type {\n",
       "        vertical-align: middle;\n",
       "    }\n",
       "\n",
       "    .dataframe tbody tr th {\n",
       "        vertical-align: top;\n",
       "    }\n",
       "\n",
       "    .dataframe thead th {\n",
       "        text-align: right;\n",
       "    }\n",
       "</style>\n",
       "<table border=\"1\" class=\"dataframe\">\n",
       "  <thead>\n",
       "    <tr style=\"text-align: right;\">\n",
       "      <th></th>\n",
       "      <th>passengerid</th>\n",
       "      <th>homeplanet</th>\n",
       "      <th>cryosleep</th>\n",
       "      <th>cabin</th>\n",
       "      <th>destination</th>\n",
       "      <th>age</th>\n",
       "      <th>vip</th>\n",
       "      <th>roomservice</th>\n",
       "      <th>foodcourt</th>\n",
       "      <th>shoppingmall</th>\n",
       "      <th>spa</th>\n",
       "      <th>vrdeck</th>\n",
       "      <th>name</th>\n",
       "      <th>transported</th>\n",
       "    </tr>\n",
       "  </thead>\n",
       "  <tbody>\n",
       "    <tr>\n",
       "      <th>0</th>\n",
       "      <td>0001_01</td>\n",
       "      <td>Europa</td>\n",
       "      <td>False</td>\n",
       "      <td>B/0/P</td>\n",
       "      <td>TRAPPIST-1e</td>\n",
       "      <td>39.0</td>\n",
       "      <td>False</td>\n",
       "      <td>0.0</td>\n",
       "      <td>0.0</td>\n",
       "      <td>0.0</td>\n",
       "      <td>0.0</td>\n",
       "      <td>0.0</td>\n",
       "      <td>Maham Ofracculy</td>\n",
       "      <td>False</td>\n",
       "    </tr>\n",
       "    <tr>\n",
       "      <th>1</th>\n",
       "      <td>0002_01</td>\n",
       "      <td>Earth</td>\n",
       "      <td>False</td>\n",
       "      <td>F/0/S</td>\n",
       "      <td>TRAPPIST-1e</td>\n",
       "      <td>24.0</td>\n",
       "      <td>False</td>\n",
       "      <td>109.0</td>\n",
       "      <td>9.0</td>\n",
       "      <td>25.0</td>\n",
       "      <td>549.0</td>\n",
       "      <td>44.0</td>\n",
       "      <td>Juanna Vines</td>\n",
       "      <td>True</td>\n",
       "    </tr>\n",
       "    <tr>\n",
       "      <th>2</th>\n",
       "      <td>0003_01</td>\n",
       "      <td>Europa</td>\n",
       "      <td>False</td>\n",
       "      <td>A/0/S</td>\n",
       "      <td>TRAPPIST-1e</td>\n",
       "      <td>58.0</td>\n",
       "      <td>True</td>\n",
       "      <td>43.0</td>\n",
       "      <td>3576.0</td>\n",
       "      <td>0.0</td>\n",
       "      <td>6715.0</td>\n",
       "      <td>49.0</td>\n",
       "      <td>Altark Susent</td>\n",
       "      <td>False</td>\n",
       "    </tr>\n",
       "    <tr>\n",
       "      <th>3</th>\n",
       "      <td>0003_02</td>\n",
       "      <td>Europa</td>\n",
       "      <td>False</td>\n",
       "      <td>A/0/S</td>\n",
       "      <td>TRAPPIST-1e</td>\n",
       "      <td>33.0</td>\n",
       "      <td>False</td>\n",
       "      <td>0.0</td>\n",
       "      <td>1283.0</td>\n",
       "      <td>371.0</td>\n",
       "      <td>3329.0</td>\n",
       "      <td>193.0</td>\n",
       "      <td>Solam Susent</td>\n",
       "      <td>False</td>\n",
       "    </tr>\n",
       "    <tr>\n",
       "      <th>4</th>\n",
       "      <td>0004_01</td>\n",
       "      <td>Earth</td>\n",
       "      <td>False</td>\n",
       "      <td>F/1/S</td>\n",
       "      <td>TRAPPIST-1e</td>\n",
       "      <td>16.0</td>\n",
       "      <td>False</td>\n",
       "      <td>303.0</td>\n",
       "      <td>70.0</td>\n",
       "      <td>151.0</td>\n",
       "      <td>565.0</td>\n",
       "      <td>2.0</td>\n",
       "      <td>Willy Santantines</td>\n",
       "      <td>True</td>\n",
       "    </tr>\n",
       "  </tbody>\n",
       "</table>\n",
       "</div>"
      ],
      "text/plain": [
       "  passengerid homeplanet cryosleep  cabin  destination   age    vip  \\\n",
       "0     0001_01     Europa     False  B/0/P  TRAPPIST-1e  39.0  False   \n",
       "1     0002_01      Earth     False  F/0/S  TRAPPIST-1e  24.0  False   \n",
       "2     0003_01     Europa     False  A/0/S  TRAPPIST-1e  58.0   True   \n",
       "3     0003_02     Europa     False  A/0/S  TRAPPIST-1e  33.0  False   \n",
       "4     0004_01      Earth     False  F/1/S  TRAPPIST-1e  16.0  False   \n",
       "\n",
       "   roomservice  foodcourt  shoppingmall     spa  vrdeck               name  \\\n",
       "0          0.0        0.0           0.0     0.0     0.0    Maham Ofracculy   \n",
       "1        109.0        9.0          25.0   549.0    44.0       Juanna Vines   \n",
       "2         43.0     3576.0           0.0  6715.0    49.0      Altark Susent   \n",
       "3          0.0     1283.0         371.0  3329.0   193.0       Solam Susent   \n",
       "4        303.0       70.0         151.0   565.0     2.0  Willy Santantines   \n",
       "\n",
       "   transported  \n",
       "0        False  \n",
       "1         True  \n",
       "2        False  \n",
       "3        False  \n",
       "4         True  "
      ]
     },
     "execution_count": 2,
     "metadata": {},
     "output_type": "execute_result"
    }
   ],
   "source": [
    "train = pd.read_csv('data/train.csv', na_values = \"NA\")\n",
    "train.columns = train.columns.str.lower()\n",
    "train.head()"
   ]
  },
  {
   "cell_type": "code",
   "execution_count": 3,
   "id": "1f345e98",
   "metadata": {
    "hidden": true
   },
   "outputs": [],
   "source": [
    "#I replaced all False values with 0 and True values with 1\n",
    "train = train.replace({True: 1, False: 0})"
   ]
  },
  {
   "cell_type": "markdown",
   "id": "ac125922",
   "metadata": {
    "hidden": true
   },
   "source": [
    "**Per Kaggle:**\n",
    "-  PassengerId - A unique Id for each passenger. Each Id takes the form gggg_pp where gggg indicates a group the passenger is travelling with and pp is their number within the group. People in a group are often family members, but not always.\n",
    "-  HomePlanet - The planet the passenger departed from, typically their planet of permanent residence.\n",
    "-  CryoSleep - Indicates whether the passenger elected to be put into suspended animation for the duration of the voyage. Passengers in cryosleep are confined to their cabins.\n",
    "-  Cabin - The cabin number where the passenger is staying. Takes the form deck/num/side, where side can be either P for Port or S for Starboard.\n",
    "-  Destination - The planet the passenger will be debarking to.\n",
    "-  Age - The age of the passenger.\n",
    "-  VIP - Whether the passenger has paid for special VIP service during the voyage.\n",
    "-  RoomService, FoodCourt, ShoppingMall, Spa, VRDeck - Amount the passenger has billed at each of the Spaceship Titanic's many luxury amenities.\n",
    "-  Name - The first and last names of the passenger.\n",
    "-  Transported - Whether the passenger was transported to another dimension."
   ]
  },
  {
   "cell_type": "markdown",
   "id": "d9396cb1",
   "metadata": {
    "heading_collapsed": true
   },
   "source": [
    "# Exploratory Data Analysis - EDA"
   ]
  },
  {
   "cell_type": "code",
   "execution_count": 4,
   "id": "18523340",
   "metadata": {
    "hidden": true
   },
   "outputs": [
    {
     "data": {
      "text/html": [
       "<div>\n",
       "<style scoped>\n",
       "    .dataframe tbody tr th:only-of-type {\n",
       "        vertical-align: middle;\n",
       "    }\n",
       "\n",
       "    .dataframe tbody tr th {\n",
       "        vertical-align: top;\n",
       "    }\n",
       "\n",
       "    .dataframe thead th {\n",
       "        text-align: right;\n",
       "    }\n",
       "</style>\n",
       "<table border=\"1\" class=\"dataframe\">\n",
       "  <thead>\n",
       "    <tr style=\"text-align: right;\">\n",
       "      <th></th>\n",
       "      <th>cryosleep</th>\n",
       "      <th>age</th>\n",
       "      <th>vip</th>\n",
       "      <th>roomservice</th>\n",
       "      <th>foodcourt</th>\n",
       "      <th>shoppingmall</th>\n",
       "      <th>spa</th>\n",
       "      <th>vrdeck</th>\n",
       "      <th>transported</th>\n",
       "    </tr>\n",
       "  </thead>\n",
       "  <tbody>\n",
       "    <tr>\n",
       "      <th>count</th>\n",
       "      <td>8476.000000</td>\n",
       "      <td>8514.000000</td>\n",
       "      <td>8490.000000</td>\n",
       "      <td>8512.000000</td>\n",
       "      <td>8510.000000</td>\n",
       "      <td>8485.000000</td>\n",
       "      <td>8510.000000</td>\n",
       "      <td>8505.000000</td>\n",
       "      <td>8693.000000</td>\n",
       "    </tr>\n",
       "    <tr>\n",
       "      <th>mean</th>\n",
       "      <td>0.358306</td>\n",
       "      <td>28.827930</td>\n",
       "      <td>0.023439</td>\n",
       "      <td>224.687617</td>\n",
       "      <td>458.077203</td>\n",
       "      <td>173.729169</td>\n",
       "      <td>311.138778</td>\n",
       "      <td>304.854791</td>\n",
       "      <td>0.503624</td>\n",
       "    </tr>\n",
       "    <tr>\n",
       "      <th>std</th>\n",
       "      <td>0.479531</td>\n",
       "      <td>14.489021</td>\n",
       "      <td>0.151303</td>\n",
       "      <td>666.717663</td>\n",
       "      <td>1611.489240</td>\n",
       "      <td>604.696458</td>\n",
       "      <td>1136.705535</td>\n",
       "      <td>1145.717189</td>\n",
       "      <td>0.500016</td>\n",
       "    </tr>\n",
       "    <tr>\n",
       "      <th>min</th>\n",
       "      <td>0.000000</td>\n",
       "      <td>0.000000</td>\n",
       "      <td>0.000000</td>\n",
       "      <td>0.000000</td>\n",
       "      <td>0.000000</td>\n",
       "      <td>0.000000</td>\n",
       "      <td>0.000000</td>\n",
       "      <td>0.000000</td>\n",
       "      <td>0.000000</td>\n",
       "    </tr>\n",
       "    <tr>\n",
       "      <th>25%</th>\n",
       "      <td>0.000000</td>\n",
       "      <td>19.000000</td>\n",
       "      <td>0.000000</td>\n",
       "      <td>0.000000</td>\n",
       "      <td>0.000000</td>\n",
       "      <td>0.000000</td>\n",
       "      <td>0.000000</td>\n",
       "      <td>0.000000</td>\n",
       "      <td>0.000000</td>\n",
       "    </tr>\n",
       "    <tr>\n",
       "      <th>50%</th>\n",
       "      <td>0.000000</td>\n",
       "      <td>27.000000</td>\n",
       "      <td>0.000000</td>\n",
       "      <td>0.000000</td>\n",
       "      <td>0.000000</td>\n",
       "      <td>0.000000</td>\n",
       "      <td>0.000000</td>\n",
       "      <td>0.000000</td>\n",
       "      <td>1.000000</td>\n",
       "    </tr>\n",
       "    <tr>\n",
       "      <th>75%</th>\n",
       "      <td>1.000000</td>\n",
       "      <td>38.000000</td>\n",
       "      <td>0.000000</td>\n",
       "      <td>47.000000</td>\n",
       "      <td>76.000000</td>\n",
       "      <td>27.000000</td>\n",
       "      <td>59.000000</td>\n",
       "      <td>46.000000</td>\n",
       "      <td>1.000000</td>\n",
       "    </tr>\n",
       "    <tr>\n",
       "      <th>max</th>\n",
       "      <td>1.000000</td>\n",
       "      <td>79.000000</td>\n",
       "      <td>1.000000</td>\n",
       "      <td>14327.000000</td>\n",
       "      <td>29813.000000</td>\n",
       "      <td>23492.000000</td>\n",
       "      <td>22408.000000</td>\n",
       "      <td>24133.000000</td>\n",
       "      <td>1.000000</td>\n",
       "    </tr>\n",
       "  </tbody>\n",
       "</table>\n",
       "</div>"
      ],
      "text/plain": [
       "         cryosleep          age          vip   roomservice     foodcourt  \\\n",
       "count  8476.000000  8514.000000  8490.000000   8512.000000   8510.000000   \n",
       "mean      0.358306    28.827930     0.023439    224.687617    458.077203   \n",
       "std       0.479531    14.489021     0.151303    666.717663   1611.489240   \n",
       "min       0.000000     0.000000     0.000000      0.000000      0.000000   \n",
       "25%       0.000000    19.000000     0.000000      0.000000      0.000000   \n",
       "50%       0.000000    27.000000     0.000000      0.000000      0.000000   \n",
       "75%       1.000000    38.000000     0.000000     47.000000     76.000000   \n",
       "max       1.000000    79.000000     1.000000  14327.000000  29813.000000   \n",
       "\n",
       "       shoppingmall           spa        vrdeck  transported  \n",
       "count   8485.000000   8510.000000   8505.000000  8693.000000  \n",
       "mean     173.729169    311.138778    304.854791     0.503624  \n",
       "std      604.696458   1136.705535   1145.717189     0.500016  \n",
       "min        0.000000      0.000000      0.000000     0.000000  \n",
       "25%        0.000000      0.000000      0.000000     0.000000  \n",
       "50%        0.000000      0.000000      0.000000     1.000000  \n",
       "75%       27.000000     59.000000     46.000000     1.000000  \n",
       "max    23492.000000  22408.000000  24133.000000     1.000000  "
      ]
     },
     "execution_count": 4,
     "metadata": {},
     "output_type": "execute_result"
    }
   ],
   "source": [
    "train.describe()"
   ]
  },
  {
   "cell_type": "code",
   "execution_count": 5,
   "id": "200b327a",
   "metadata": {
    "hidden": true
   },
   "outputs": [
    {
     "name": "stdout",
     "output_type": "stream",
     "text": [
      "<class 'pandas.core.frame.DataFrame'>\n",
      "RangeIndex: 8693 entries, 0 to 8692\n",
      "Data columns (total 14 columns):\n",
      " #   Column        Non-Null Count  Dtype  \n",
      "---  ------        --------------  -----  \n",
      " 0   passengerid   8693 non-null   object \n",
      " 1   homeplanet    8492 non-null   object \n",
      " 2   cryosleep     8476 non-null   float64\n",
      " 3   cabin         8494 non-null   object \n",
      " 4   destination   8511 non-null   object \n",
      " 5   age           8514 non-null   float64\n",
      " 6   vip           8490 non-null   float64\n",
      " 7   roomservice   8512 non-null   float64\n",
      " 8   foodcourt     8510 non-null   float64\n",
      " 9   shoppingmall  8485 non-null   float64\n",
      " 10  spa           8510 non-null   float64\n",
      " 11  vrdeck        8505 non-null   float64\n",
      " 12  name          8493 non-null   object \n",
      " 13  transported   8693 non-null   int64  \n",
      "dtypes: float64(8), int64(1), object(5)\n",
      "memory usage: 950.9+ KB\n"
     ]
    }
   ],
   "source": [
    "train.info()"
   ]
  },
  {
   "cell_type": "code",
   "execution_count": 6,
   "id": "65bac3cf",
   "metadata": {
    "hidden": true
   },
   "outputs": [
    {
     "data": {
      "text/plain": [
       "passengerid     8693\n",
       "homeplanet         3\n",
       "cryosleep          2\n",
       "cabin           6560\n",
       "destination        3\n",
       "age               80\n",
       "vip                2\n",
       "roomservice     1273\n",
       "foodcourt       1507\n",
       "shoppingmall    1115\n",
       "spa             1327\n",
       "vrdeck          1306\n",
       "name            8473\n",
       "transported        2\n",
       "dtype: int64"
      ]
     },
     "execution_count": 6,
     "metadata": {},
     "output_type": "execute_result"
    }
   ],
   "source": [
    "#looking for unique values\n",
    "unique = train.nunique()\n",
    "unique"
   ]
  },
  {
   "cell_type": "code",
   "execution_count": 7,
   "id": "d6f5300e",
   "metadata": {
    "hidden": true
   },
   "outputs": [
    {
     "data": {
      "text/plain": [
       "0"
      ]
     },
     "execution_count": 7,
     "metadata": {},
     "output_type": "execute_result"
    }
   ],
   "source": [
    "#Check for duplicated passenger info.  There isn't any to deal with.\n",
    "duplications = train.duplicated().sum()\n",
    "duplications"
   ]
  },
  {
   "cell_type": "code",
   "execution_count": 8,
   "id": "6226f9cd",
   "metadata": {
    "hidden": true
   },
   "outputs": [
    {
     "data": {
      "text/plain": [
       "Text(0.5, 0, 'Transported by Homeplanet')"
      ]
     },
     "execution_count": 8,
     "metadata": {},
     "output_type": "execute_result"
    },
    {
     "data": {
      "image/png": "[encoded data removed]",
      "text/plain": [
       "<Figure size 432x288 with 1 Axes>"
      ]
     },
     "metadata": {
      "needs_background": "light"
     },
     "output_type": "display_data"
    }
   ],
   "source": [
    "sns.countplot(data=train, x ='transported', hue = 'homeplanet')\n",
    "plt.xlabel('Transported by Homeplanet' )"
   ]
  },
  {
   "cell_type": "code",
   "execution_count": 9,
   "id": "2f66c2c0",
   "metadata": {
    "hidden": true
   },
   "outputs": [
    {
     "data": {
      "text/plain": [
       "Text(0.5, 0, 'Transported Cryosleep Passengers')"
      ]
     },
     "execution_count": 9,
     "metadata": {},
     "output_type": "execute_result"
    },
    {
     "data": {
      "image/png": "[encoded data removed]",
      "text/plain": [
       "<Figure size 432x288 with 1 Axes>"
      ]
     },
     "metadata": {
      "needs_background": "light"
     },
     "output_type": "display_data"
    }
   ],
   "source": [
    "sns.countplot(data=train, x ='transported', hue = 'cryosleep')\n",
    "plt.xlabel('Transported Cryosleep Passengers' )"
   ]
  },
  {
   "cell_type": "code",
   "execution_count": 10,
   "id": "c1834194",
   "metadata": {
    "hidden": true
   },
   "outputs": [
    {
     "data": {
      "text/plain": [
       "Text(0.5, 0, 'VIP Passengers Transported')"
      ]
     },
     "execution_count": 10,
     "metadata": {},
     "output_type": "execute_result"
    },
    {
     "data": {
      "image/png": "[encoded data removed]",
      "text/plain": [
       "<Figure size 432x288 with 1 Axes>"
      ]
     },
     "metadata": {
      "needs_background": "light"
     },
     "output_type": "display_data"
    }
   ],
   "source": [
    "sns.countplot(data=train, x ='transported', hue = 'vip')\n",
    "plt.xlabel('VIP Passengers Transported' )"
   ]
  },
  {
   "cell_type": "code",
   "execution_count": 11,
   "id": "32f00511",
   "metadata": {
    "hidden": true,
    "scrolled": true
   },
   "outputs": [
    {
     "data": {
      "text/plain": [
       "Text(0.5, 0, 'Transported by Destination')"
      ]
     },
     "execution_count": 11,
     "metadata": {},
     "output_type": "execute_result"
    },
    {
     "data": {
      "image/png": "[encoded data removed]",
      "text/plain": [
       "<Figure size 432x288 with 1 Axes>"
      ]
     },
     "metadata": {
      "needs_background": "light"
     },
     "output_type": "display_data"
    }
   ],
   "source": [
    "sns.countplot(data=train, x ='transported', hue = 'destination')\n",
    "plt.xlabel('Transported by Destination' )"
   ]
  },
  {
   "cell_type": "code",
   "execution_count": 12,
   "id": "a996b742",
   "metadata": {
    "hidden": true
   },
   "outputs": [
    {
     "data": {
      "image/png": "[encoded data removed]",
      "text/plain": [
       "<Figure size 1080x720 with 9 Axes>"
      ]
     },
     "metadata": {
      "needs_background": "light"
     },
     "output_type": "display_data"
    }
   ],
   "source": [
    "train.hist(figsize=(15,10))\n",
    "plt.show()"
   ]
  },
  {
   "cell_type": "markdown",
   "id": "dff1c80e",
   "metadata": {
    "hidden": true
   },
   "source": [
    "From the above quick analysis, it appears that being VIP did not affect the success rate of the transportation.  There was a positive affect of cryosleep and being from Europa on being successfully transported.  I will calculate a correlation matrix after the missing data is filled in to see if there are other correlations."
   ]
  },
  {
   "cell_type": "markdown",
   "id": "07c3fc04",
   "metadata": {
    "heading_collapsed": true
   },
   "source": [
    "# Correlation"
   ]
  },
  {
   "cell_type": "code",
   "execution_count": 13,
   "id": "58dc441e",
   "metadata": {
    "hidden": true
   },
   "outputs": [
    {
     "data": {
      "image/png": "[encoded data removed]",
      "text/plain": [
       "<Figure size 432x288 with 2 Axes>"
      ]
     },
     "metadata": {
      "needs_background": "light"
     },
     "output_type": "display_data"
    }
   ],
   "source": [
    "#This is a heatmap of the above information that makes it easier to see the features\n",
    "#that correlate with each other (if any).\n",
    "sns.heatmap(train.corr(), annot=True)\n",
    "plt.show()"
   ]
  },
  {
   "cell_type": "markdown",
   "id": "26f42648",
   "metadata": {
    "hidden": true
   },
   "source": [
    "It appears that the feature with the highest correlation to being successfully transported is cryosleep"
   ]
  },
  {
   "cell_type": "code",
   "execution_count": 14,
   "id": "651b66f9",
   "metadata": {
    "hidden": true
   },
   "outputs": [
    {
     "data": {
      "text/plain": [
       "Earth    -0.169019\n",
       "Europa    0.176916\n",
       "Mars      0.019544\n",
       "dtype: float64"
      ]
     },
     "execution_count": 14,
     "metadata": {},
     "output_type": "execute_result"
    }
   ],
   "source": [
    "#Homeplanet was not included in the above correlation as it is a string.  \n",
    "#We can use .get_dummies().  This converts a categorical variable into \n",
    "#dummy variables\n",
    "\n",
    "train['homeplanet'].str.get_dummies().corrwith(train['transported']/train['transported'].max())"
   ]
  },
  {
   "cell_type": "markdown",
   "id": "736ad641",
   "metadata": {
    "hidden": true
   },
   "source": [
    "This shows that being from Earth has a strong negative correlation to being transported successfully whereas the other 2 locations have a slightly positive correlation."
   ]
  },
  {
   "cell_type": "code",
   "execution_count": 15,
   "id": "6c6285de",
   "metadata": {
    "hidden": true
   },
   "outputs": [
    {
     "data": {
      "text/plain": [
       "55 Cancri e      0.108722\n",
       "PSO J318.5-22    0.000092\n",
       "TRAPPIST-1e     -0.094700\n",
       "dtype: float64"
      ]
     },
     "execution_count": 15,
     "metadata": {},
     "output_type": "execute_result"
    }
   ],
   "source": [
    "#Groups were not included in the above correlation as it is a string. I have seperated it \n",
    "#We can use .get_dummies().  This converts a categorical variable into \n",
    "#dummy variables\n",
    "\n",
    "train['destination'].str.get_dummies().corrwith(train['transported']/train['transported'].max())"
   ]
  },
  {
   "cell_type": "markdown",
   "id": "70e77035",
   "metadata": {
    "hidden": true
   },
   "source": [
    "This shows that the destination of TRAPPIST has a negative correlation to being successfully transported as compared to the other two destinations."
   ]
  },
  {
   "cell_type": "markdown",
   "id": "9103a240",
   "metadata": {
    "hidden": true
   },
   "source": [
    "### Does Group size affect transportation?"
   ]
  },
  {
   "cell_type": "code",
   "execution_count": 16,
   "id": "d20780bb",
   "metadata": {
    "hidden": true
   },
   "outputs": [],
   "source": [
    "#split the passengerid so we can establish groups (who is travelling with who).  \n",
    "#This dataset does not distinguish between families or friend groups\n",
    "train[['passengerid_1','passengerid_2']] = train['passengerid'].str.split('_', 2, expand=True)"
   ]
  },
  {
   "cell_type": "code",
   "execution_count": 17,
   "id": "6175496b",
   "metadata": {
    "hidden": true,
    "scrolled": true
   },
   "outputs": [
    {
     "data": {
      "text/plain": [
       "01   -0.087695\n",
       "02    0.048582\n",
       "03    0.060768\n",
       "04    0.029559\n",
       "05    0.010575\n",
       "06    0.008031\n",
       "07   -0.000529\n",
       "08   -0.003257\n",
       "dtype: float64"
      ]
     },
     "execution_count": 17,
     "metadata": {},
     "output_type": "execute_result"
    }
   ],
   "source": [
    "#Groups was not included in the above correlation as it is a string.  \n",
    "#We can use .get_dummies().  This converts a categorical variable into \n",
    "#dummy variables\n",
    "\n",
    "train['passengerid_2'].str.get_dummies().corrwith(train['transported']/train['transported'].max())"
   ]
  },
  {
   "cell_type": "code",
   "execution_count": 18,
   "id": "2674e215",
   "metadata": {
    "hidden": true
   },
   "outputs": [
    {
     "data": {
      "text/plain": [
       "<AxesSubplot:xlabel='passengerid_2', ylabel='transported'>"
      ]
     },
     "execution_count": 18,
     "metadata": {},
     "output_type": "execute_result"
    },
    {
     "data": {
      "image/png": "[encoded data removed]",
      "text/plain": [
       "<Figure size 432x288 with 1 Axes>"
      ]
     },
     "metadata": {
      "needs_background": "light"
     },
     "output_type": "display_data"
    }
   ],
   "source": [
    "#Let's see if family size affects survival rates\n",
    "\n",
    "sns.barplot(x = 'passengerid_2', y = 'transported', data = train)"
   ]
  },
  {
   "cell_type": "code",
   "execution_count": 19,
   "id": "bb733a5f",
   "metadata": {
    "hidden": true,
    "scrolled": true
   },
   "outputs": [
    {
     "data": {
      "text/plain": [
       "<AxesSubplot:title={'center':'Successful Transportation by Group Size'}, xlabel='passengerid_2'>"
      ]
     },
     "execution_count": 19,
     "metadata": {},
     "output_type": "execute_result"
    },
    {
     "data": {
      "image/png": "[encoded data removed]",
      "text/plain": [
       "<Figure size 432x288 with 1 Axes>"
      ]
     },
     "metadata": {
      "needs_background": "light"
     },
     "output_type": "display_data"
    }
   ],
   "source": [
    "pd.crosstab(train['passengerid_2'], train['transported']).plot(kind='bar', stacked=True, title=\"Successful Transportation by Group Size\")"
   ]
  },
  {
   "cell_type": "markdown",
   "id": "1ad2e669",
   "metadata": {
    "hidden": true
   },
   "source": [
    "It appears that if you travelled in a group between the 2 and 6 people, you had a positive correlation of correctly reaching your destination."
   ]
  },
  {
   "cell_type": "markdown",
   "id": "d5e8af54",
   "metadata": {
    "heading_collapsed": true
   },
   "source": [
    "# Data Engineering"
   ]
  },
  {
   "cell_type": "markdown",
   "id": "2ea5a37e",
   "metadata": {
    "hidden": true
   },
   "source": [
    "## Missing Data"
   ]
  },
  {
   "cell_type": "markdown",
   "id": "33cf9132",
   "metadata": {
    "hidden": true
   },
   "source": [
    "I will use SimpleImputer to fill in missing values.  I will use 'most frequent' value for categorical and 'mean' for numerical."
   ]
  },
  {
   "cell_type": "code",
   "execution_count": 20,
   "id": "d37cf179",
   "metadata": {
    "hidden": true
   },
   "outputs": [
    {
     "data": {
      "text/plain": [
       "passengerid        0\n",
       "homeplanet       201\n",
       "cryosleep        217\n",
       "cabin            199\n",
       "destination      182\n",
       "age              179\n",
       "vip              203\n",
       "roomservice      181\n",
       "foodcourt        183\n",
       "shoppingmall     208\n",
       "spa              183\n",
       "vrdeck           188\n",
       "name             200\n",
       "transported        0\n",
       "passengerid_1      0\n",
       "passengerid_2      0\n",
       "dtype: int64"
      ]
     },
     "execution_count": 20,
     "metadata": {},
     "output_type": "execute_result"
    }
   ],
   "source": [
    "train.isna().sum()"
   ]
  },
  {
   "cell_type": "code",
   "execution_count": 21,
   "id": "0d3ccc3a",
   "metadata": {
    "hidden": true,
    "scrolled": true
   },
   "outputs": [
    {
     "data": {
      "text/plain": [
       "['homeplanet',\n",
       " 'cryosleep',\n",
       " 'cabin',\n",
       " 'destination',\n",
       " 'age',\n",
       " 'vip',\n",
       " 'roomservice',\n",
       " 'foodcourt',\n",
       " 'shoppingmall',\n",
       " 'spa',\n",
       " 'vrdeck',\n",
       " 'name']"
      ]
     },
     "execution_count": 21,
     "metadata": {},
     "output_type": "execute_result"
    }
   ],
   "source": [
    "# Get names of columns with missing values\n",
    "cols_with_missing = [col for col in train.columns\n",
    "                     if train[col].isnull().any()]\n",
    "cols_with_missing"
   ]
  },
  {
   "cell_type": "code",
   "execution_count": 22,
   "id": "3da2e03b",
   "metadata": {
    "hidden": true
   },
   "outputs": [],
   "source": [
    "imputer = SimpleImputer(strategy='mean')\n",
    "\n",
    "def imputer_numerical(df):\n",
    "    (df).cryosleep = imputer.fit_transform((df)['cryosleep'].values.reshape(-1,1))[:,0]\n",
    "    (df).age = imputer.fit_transform((df)['age'].values.reshape(-1,1))[:,0]\n",
    "    (df).vip = imputer.fit_transform((df)['vip'].values.reshape(-1,1))[:,0]\n",
    "    (df).roomservice = imputer.fit_transform((df)['roomservice'].values.reshape(-1,1))[:,0]\n",
    "    (df).foodcourt = imputer.fit_transform((df)['foodcourt'].values.reshape(-1,1))[:,0]\n",
    "    (df).shoppingmall = imputer.fit_transform((df)['shoppingmall'].values.reshape(-1,1))[:,0]\n",
    "    (df).spa = imputer.fit_transform((df)['spa'].values.reshape(-1,1))[:,0]\n",
    "    (df).vrdeck = imputer.fit_transform((df)['vrdeck'].values.reshape(-1,1))[:,0]"
   ]
  },
  {
   "cell_type": "code",
   "execution_count": 23,
   "id": "7221c8c9",
   "metadata": {
    "hidden": true
   },
   "outputs": [],
   "source": [
    "imputer_numerical(train)"
   ]
  },
  {
   "cell_type": "code",
   "execution_count": 24,
   "id": "8f21ae73",
   "metadata": {
    "hidden": true
   },
   "outputs": [],
   "source": [
    "#imputer = SimpleImputer(strategy='mean')\n",
    "#train.cryosleep = imputer.fit_transform(train['cryosleep'].values.reshape(-1,1))[:,0]\n",
    "#train.age = imputer.fit_transform(train['age'].values.reshape(-1,1))[:,0]\n",
    "#train.vip = imputer.fit_transform(train['vip'].values.reshape(-1,1))[:,0]\n",
    "#train.roomservice = imputer.fit_transform(train['roomservice'].values.reshape(-1,1))[:,0]\n",
    "#train.foodcourt = imputer.fit_transform(train['foodcourt'].values.reshape(-1,1))[:,0]\n",
    "#train.shoppingmall = imputer.fit_transform(train['shoppingmall'].values.reshape(-1,1))[:,0]\n",
    "#train.spa = imputer.fit_transform(train['spa'].values.reshape(-1,1))[:,0]\n",
    "#train.vrdeck = imputer.fit_transform(train['vrdeck'].values.reshape(-1,1))[:,0]"
   ]
  },
  {
   "cell_type": "code",
   "execution_count": 25,
   "id": "f595e16a",
   "metadata": {
    "hidden": true
   },
   "outputs": [],
   "source": [
    "imputer_cat = SimpleImputer(strategy='most_frequent')\n",
    "\n",
    "def imputer_categorical(df):\n",
    "    (df).homeplanet = imputer_cat.fit_transform((df)['homeplanet'].values.reshape(-1,1))[:,0]\n",
    "    (df).destination = imputer_cat.fit_transform((df)['destination'].values.reshape(-1,1))[:,0]"
   ]
  },
  {
   "cell_type": "code",
   "execution_count": 26,
   "id": "5e5f96bc",
   "metadata": {
    "hidden": true
   },
   "outputs": [],
   "source": [
    "imputer_categorical(train)"
   ]
  },
  {
   "cell_type": "code",
   "execution_count": 27,
   "id": "9f6759d8",
   "metadata": {
    "hidden": true
   },
   "outputs": [],
   "source": [
    "#imputer_cat = SimpleImputer(strategy='most_frequent')\n",
    "#train.homeplanet = imputer_cat.fit_transform(train['homeplanet'].values.reshape(-1,1))[:,0]\n",
    "#train.destination = imputer_cat.fit_transform(train['destination'].values.reshape(-1,1))[:,0]"
   ]
  },
  {
   "cell_type": "code",
   "execution_count": null,
   "id": "5d0ba649",
   "metadata": {
    "hidden": true
   },
   "outputs": [],
   "source": []
  },
  {
   "cell_type": "code",
   "execution_count": 28,
   "id": "f66ec6ff",
   "metadata": {
    "hidden": true
   },
   "outputs": [
    {
     "data": {
      "text/plain": [
       "passengerid        0\n",
       "homeplanet         0\n",
       "cryosleep          0\n",
       "cabin            199\n",
       "destination        0\n",
       "age                0\n",
       "vip                0\n",
       "roomservice        0\n",
       "foodcourt          0\n",
       "shoppingmall       0\n",
       "spa                0\n",
       "vrdeck             0\n",
       "name             200\n",
       "transported        0\n",
       "passengerid_1      0\n",
       "passengerid_2      0\n",
       "dtype: int64"
      ]
     },
     "execution_count": 28,
     "metadata": {},
     "output_type": "execute_result"
    }
   ],
   "source": [
    "train.isna().sum()"
   ]
  },
  {
   "cell_type": "markdown",
   "id": "62458106",
   "metadata": {
    "hidden": true
   },
   "source": [
    "I will drop the cabin column as we can't impute the missing numbers.  It could be possible to group with families but I believe at this point in time, it is too much work for the benefit I would get (if any).\n",
    "\n",
    "I will also drop names from the dataset."
   ]
  },
  {
   "cell_type": "code",
   "execution_count": 29,
   "id": "8c71f599",
   "metadata": {
    "hidden": true
   },
   "outputs": [],
   "source": [
    "#train[['f_name', 'l_name']] = train['name'].str.split(' ', 2, expand=True)"
   ]
  },
  {
   "cell_type": "markdown",
   "id": "f3a23c72",
   "metadata": {
    "hidden": true
   },
   "source": [
    "Possible thing in the future, is it worth looking at last names and grouping missing cabin info by families???\n",
    "\n",
    "For now, I will ignore this column when defining my X,y for Split-Train-Test of the model and will revisit in the future possibly."
   ]
  },
  {
   "cell_type": "code",
   "execution_count": 30,
   "id": "2bd6b44e",
   "metadata": {
    "hidden": true
   },
   "outputs": [],
   "source": [
    "train = train.drop(['cabin','name'], axis = 1)"
   ]
  },
  {
   "cell_type": "code",
   "execution_count": 31,
   "id": "d883c3d9",
   "metadata": {
    "hidden": true
   },
   "outputs": [
    {
     "data": {
      "text/plain": [
       "passengerid      0\n",
       "homeplanet       0\n",
       "cryosleep        0\n",
       "destination      0\n",
       "age              0\n",
       "vip              0\n",
       "roomservice      0\n",
       "foodcourt        0\n",
       "shoppingmall     0\n",
       "spa              0\n",
       "vrdeck           0\n",
       "transported      0\n",
       "passengerid_1    0\n",
       "passengerid_2    0\n",
       "dtype: int64"
      ]
     },
     "execution_count": 31,
     "metadata": {},
     "output_type": "execute_result"
    }
   ],
   "source": [
    "train.isna().sum()"
   ]
  },
  {
   "cell_type": "code",
   "execution_count": 32,
   "id": "47e29ec6",
   "metadata": {
    "hidden": true
   },
   "outputs": [],
   "source": [
    "#change the values in the 'fare' column to integers for ease of calculations\n",
    "train['passengerid_1']=train['passengerid_1'].astype(int)\n",
    "train['passengerid_2']=train['passengerid_2'].astype(int)"
   ]
  },
  {
   "cell_type": "markdown",
   "id": "20444606",
   "metadata": {
    "hidden": true
   },
   "source": [
    "## Factorizing Features"
   ]
  },
  {
   "cell_type": "code",
   "execution_count": 33,
   "id": "b5720795",
   "metadata": {
    "hidden": true
   },
   "outputs": [],
   "source": [
    "#I will factorise homeplanet and destination\n",
    "train['homeplanet_f'] = pd.factorize(train['homeplanet'])[0]\n",
    "train['destination_f'] = pd.factorize(train['destination'])[0]"
   ]
  },
  {
   "cell_type": "markdown",
   "id": "75786937",
   "metadata": {
    "heading_collapsed": true
   },
   "source": [
    "# Define X and y"
   ]
  },
  {
   "cell_type": "code",
   "execution_count": 34,
   "id": "4674c943",
   "metadata": {
    "hidden": true
   },
   "outputs": [],
   "source": [
    "#drop the column \"transported\" from file as we are creating a ML to predict this column\n",
    "#y is true data (Y_true) the survivors from the original file, we will try and predict Y_new\n",
    "X = train.drop(['passengerid','homeplanet','destination','transported'], axis = 1)\n",
    "y = train['transported']"
   ]
  },
  {
   "cell_type": "markdown",
   "id": "06ffa973",
   "metadata": {
    "heading_collapsed": true
   },
   "source": [
    "# Random Forest Classification"
   ]
  },
  {
   "cell_type": "code",
   "execution_count": 35,
   "id": "3ae85c0b",
   "metadata": {
    "hidden": true
   },
   "outputs": [
    {
     "data": {
      "text/plain": [
       "((8693, 12), (8693,))"
      ]
     },
     "execution_count": 35,
     "metadata": {},
     "output_type": "execute_result"
    }
   ],
   "source": [
    "X.shape, y.shape"
   ]
  },
  {
   "cell_type": "code",
   "execution_count": 36,
   "id": "078d0b4c",
   "metadata": {
    "hidden": true
   },
   "outputs": [],
   "source": [
    "X_trainRF, X_testRF, y_trainRF, y_testRF = train_test_split(X,y, test_size = 0.2)"
   ]
  },
  {
   "cell_type": "code",
   "execution_count": 37,
   "id": "22a6100d",
   "metadata": {
    "hidden": true
   },
   "outputs": [
    {
     "data": {
      "text/plain": [
       "((6954, 12), (1739, 12), (6954,), (1739,))"
      ]
     },
     "execution_count": 37,
     "metadata": {},
     "output_type": "execute_result"
    }
   ],
   "source": [
    "X_trainRF.shape, X_testRF.shape, y_trainRF.shape, y_testRF.shape"
   ]
  },
  {
   "cell_type": "code",
   "execution_count": 38,
   "id": "bddf89a3",
   "metadata": {
    "hidden": true
   },
   "outputs": [
    {
     "data": {
      "text/html": [
       "<style>#sk-container-id-1 {color: black;background-color: white;}#sk-container-id-1 pre{padding: 0;}#sk-container-id-1 div.sk-toggleable {background-color: white;}#sk-container-id-1 label.sk-toggleable__label {cursor: pointer;display: block;width: 100%;margin-bottom: 0;padding: 0.3em;box-sizing: border-box;text-align: center;}#sk-container-id-1 label.sk-toggleable__label-arrow:before {content: \"▸\";float: left;margin-right: 0.25em;color: #696969;}#sk-container-id-1 label.sk-toggleable__label-arrow:hover:before {color: black;}#sk-container-id-1 div.sk-estimator:hover label.sk-toggleable__label-arrow:before {color: black;}#sk-container-id-1 div.sk-toggleable__content {max-height: 0;max-width: 0;overflow: hidden;text-align: left;background-color: #f0f8ff;}#sk-container-id-1 div.sk-toggleable__content pre {margin: 0.2em;color: black;border-radius: 0.25em;background-color: #f0f8ff;}#sk-container-id-1 input.sk-toggleable__control:checked~div.sk-toggleable__content {max-height: 200px;max-width: 100%;overflow: auto;}#sk-container-id-1 input.sk-toggleable__control:checked~label.sk-toggleable__label-arrow:before {content: \"▾\";}#sk-container-id-1 div.sk-estimator input.sk-toggleable__control:checked~label.sk-toggleable__label {background-color: #d4ebff;}#sk-container-id-1 div.sk-label input.sk-toggleable__control:checked~label.sk-toggleable__label {background-color: #d4ebff;}#sk-container-id-1 input.sk-hidden--visually {border: 0;clip: rect(1px 1px 1px 1px);clip: rect(1px, 1px, 1px, 1px);height: 1px;margin: -1px;overflow: hidden;padding: 0;position: absolute;width: 1px;}#sk-container-id-1 div.sk-estimator {font-family: monospace;background-color: #f0f8ff;border: 1px dotted black;border-radius: 0.25em;box-sizing: border-box;margin-bottom: 0.5em;}#sk-container-id-1 div.sk-estimator:hover {background-color: #d4ebff;}#sk-container-id-1 div.sk-parallel-item::after {content: \"\";width: 100%;border-bottom: 1px solid gray;flex-grow: 1;}#sk-container-id-1 div.sk-label:hover label.sk-toggleable__label {background-color: #d4ebff;}#sk-container-id-1 div.sk-serial::before {content: \"\";position: absolute;border-left: 1px solid gray;box-sizing: border-box;top: 0;bottom: 0;left: 50%;z-index: 0;}#sk-container-id-1 div.sk-serial {display: flex;flex-direction: column;align-items: center;background-color: white;padding-right: 0.2em;padding-left: 0.2em;position: relative;}#sk-container-id-1 div.sk-item {position: relative;z-index: 1;}#sk-container-id-1 div.sk-parallel {display: flex;align-items: stretch;justify-content: center;background-color: white;position: relative;}#sk-container-id-1 div.sk-item::before, #sk-container-id-1 div.sk-parallel-item::before {content: \"\";position: absolute;border-left: 1px solid gray;box-sizing: border-box;top: 0;bottom: 0;left: 50%;z-index: -1;}#sk-container-id-1 div.sk-parallel-item {display: flex;flex-direction: column;z-index: 1;position: relative;background-color: white;}#sk-container-id-1 div.sk-parallel-item:first-child::after {align-self: flex-end;width: 50%;}#sk-container-id-1 div.sk-parallel-item:last-child::after {align-self: flex-start;width: 50%;}#sk-container-id-1 div.sk-parallel-item:only-child::after {width: 0;}#sk-container-id-1 div.sk-dashed-wrapped {border: 1px dashed gray;margin: 0 0.4em 0.5em 0.4em;box-sizing: border-box;padding-bottom: 0.4em;background-color: white;}#sk-container-id-1 div.sk-label label {font-family: monospace;font-weight: bold;display: inline-block;line-height: 1.2em;}#sk-container-id-1 div.sk-label-container {text-align: center;}#sk-container-id-1 div.sk-container {/* jupyter's `normalize.less` sets `[hidden] { display: none; }` but bootstrap.min.css set `[hidden] { display: none !important; }` so we also need the `!important` here to be able to override the default hidden behavior on the sphinx rendered scikit-learn.org. See: https://github.com/scikit-learn/scikit-learn/issues/21755 */display: inline-block !important;position: relative;}#sk-container-id-1 div.sk-text-repr-fallback {display: none;}</style><div id=\"sk-container-id-1\" class=\"sk-top-container\"><div class=\"sk-text-repr-fallback\"><pre>RandomForestClassifier(max_depth=12, n_estimators=120)</pre><b>In a Jupyter environment, please rerun this cell to show the HTML representation or trust the notebook. <br />On GitHub, the HTML representation is unable to render, please try loading this page with nbviewer.org.</b></div><div class=\"sk-container\" hidden><div class=\"sk-item\"><div class=\"sk-estimator sk-toggleable\"><input class=\"sk-toggleable__control sk-hidden--visually\" id=\"sk-estimator-id-1\" type=\"checkbox\" checked><label for=\"sk-estimator-id-1\" class=\"sk-toggleable__label sk-toggleable__label-arrow\">RandomForestClassifier</label><div class=\"sk-toggleable__content\"><pre>RandomForestClassifier(max_depth=12, n_estimators=120)</pre></div></div></div></div></div>"
      ],
      "text/plain": [
       "RandomForestClassifier(max_depth=12, n_estimators=120)"
      ]
     },
     "execution_count": 38,
     "metadata": {},
     "output_type": "execute_result"
    }
   ],
   "source": [
    "rfc = RandomForestClassifier(n_estimators=120, max_depth=12)    #Hyperparam: n_estimators(number of trees)\n",
    "rfc.fit(X_trainRF, y_trainRF)"
   ]
  },
  {
   "cell_type": "code",
   "execution_count": 39,
   "id": "a2f1b123",
   "metadata": {
    "hidden": true
   },
   "outputs": [
    {
     "data": {
      "text/plain": [
       "(6954,)"
      ]
     },
     "execution_count": 39,
     "metadata": {},
     "output_type": "execute_result"
    }
   ],
   "source": [
    "y_predRF = rfc.predict(X_trainRF)\n",
    "y_predRF.shape"
   ]
  },
  {
   "cell_type": "code",
   "execution_count": 40,
   "id": "dd3832c2",
   "metadata": {
    "hidden": true
   },
   "outputs": [
    {
     "data": {
      "text/plain": [
       "0.884"
      ]
     },
     "execution_count": 40,
     "metadata": {},
     "output_type": "execute_result"
    }
   ],
   "source": [
    "round(rfc.score(X_trainRF, y_trainRF),3)"
   ]
  },
  {
   "cell_type": "code",
   "execution_count": 41,
   "id": "b0379f57",
   "metadata": {
    "hidden": true
   },
   "outputs": [
    {
     "data": {
      "text/plain": [
       "array([0.15709101, 0.07477807, 0.00617314, 0.13839098, 0.09729188,\n",
       "       0.07517634, 0.14004837, 0.12165413, 0.08565727, 0.02005096,\n",
       "       0.06568157, 0.01800628])"
      ]
     },
     "execution_count": 41,
     "metadata": {},
     "output_type": "execute_result"
    }
   ],
   "source": [
    "importance = rfc.feature_importances_\n",
    "importance"
   ]
  },
  {
   "cell_type": "code",
   "execution_count": 42,
   "id": "8e77f022",
   "metadata": {
    "hidden": true
   },
   "outputs": [
    {
     "name": "stdout",
     "output_type": "stream",
     "text": [
      "Feature: 0, Score: 0.15709\n",
      "Feature: 1, Score: 0.07478\n",
      "Feature: 2, Score: 0.00617\n",
      "Feature: 3, Score: 0.13839\n",
      "Feature: 4, Score: 0.09729\n",
      "Feature: 5, Score: 0.07518\n",
      "Feature: 6, Score: 0.14005\n",
      "Feature: 7, Score: 0.12165\n",
      "Feature: 8, Score: 0.08566\n",
      "Feature: 9, Score: 0.02005\n",
      "Feature: 10, Score: 0.06568\n",
      "Feature: 11, Score: 0.01801\n"
     ]
    }
   ],
   "source": [
    "# summarize feature importance\n",
    "for i,v in enumerate(importance):\n",
    "        print('Feature: %0d, Score: %.5f' % (i,   v))"
   ]
  },
  {
   "cell_type": "code",
   "execution_count": 43,
   "id": "ccc08e83",
   "metadata": {
    "hidden": true
   },
   "outputs": [],
   "source": [
    "# Calculate the accuracy\n",
    "accuracyRF = rfc.score(X_trainRF,y_trainRF)"
   ]
  },
  {
   "cell_type": "code",
   "execution_count": 44,
   "id": "5fcd7a61",
   "metadata": {
    "hidden": true
   },
   "outputs": [
    {
     "name": "stdout",
     "output_type": "stream",
     "text": [
      "The Random Forest Model has achieved an: \n",
      " \n",
      "accuracy = 0.88\n",
      "\n",
      "precision = 0.87 \n",
      " \n",
      "recall = 0.9\n",
      "\n",
      "f1 = 0.89\n"
     ]
    }
   ],
   "source": [
    "print(f\"\"\"The Random Forest Model has achieved an: \\n \n",
    "accuracy = {round(accuracyRF,2)}\\n\n",
    "precision = {round(precision_score(y_trainRF,y_predRF),2)} \\n \n",
    "recall = {round(recall_score(y_trainRF,y_predRF),2)}\\n\n",
    "f1 = {round(f1_score(y_trainRF,y_predRF),2)}\"\"\")"
   ]
  },
  {
   "cell_type": "markdown",
   "id": "960abdb6",
   "metadata": {
    "hidden": true
   },
   "source": [
    "## Cross Validation - RFC"
   ]
  },
  {
   "cell_type": "code",
   "execution_count": 45,
   "id": "91e7b8f6",
   "metadata": {
    "hidden": true
   },
   "outputs": [
    {
     "data": {
      "text/plain": [
       "array([0.8 , 0.8 , 0.79, 0.81, 0.79])"
      ]
     },
     "execution_count": 45,
     "metadata": {},
     "output_type": "execute_result"
    }
   ],
   "source": [
    "cross_accuracy_logRFC = cross_val_score(rfc,  #estimator: the model that you want to evalueate\n",
    "                                     X_trainRF, # the training data\n",
    "                                     y_trainRF\n",
    "                                        ,  # the training data\n",
    "                                     cv = 5 , # number of cross validation datasets, k-folds\n",
    "                                     scoring = 'accuracy' # evaluation metric\n",
    "\n",
    ")\n",
    "\n",
    "CAL_RFC = np.round_(cross_accuracy_logRFC, 2)\n",
    "CAL_RFC"
   ]
  },
  {
   "cell_type": "markdown",
   "id": "821bc619",
   "metadata": {},
   "source": [
    "# Support Vector Machine"
   ]
  },
  {
   "cell_type": "code",
   "execution_count": 46,
   "id": "acb5721a",
   "metadata": {},
   "outputs": [],
   "source": [
    "X_trainSV, X_testSV, y_trainSV, y_testSV = train_test_split(X,y, test_size = 0.20)"
   ]
  },
  {
   "cell_type": "code",
   "execution_count": 47,
   "id": "7f9bcc46",
   "metadata": {},
   "outputs": [
    {
     "data": {
      "text/html": [
       "<style>#sk-container-id-2 {color: black;background-color: white;}#sk-container-id-2 pre{padding: 0;}#sk-container-id-2 div.sk-toggleable {background-color: white;}#sk-container-id-2 label.sk-toggleable__label {cursor: pointer;display: block;width: 100%;margin-bottom: 0;padding: 0.3em;box-sizing: border-box;text-align: center;}#sk-container-id-2 label.sk-toggleable__label-arrow:before {content: \"▸\";float: left;margin-right: 0.25em;color: #696969;}#sk-container-id-2 label.sk-toggleable__label-arrow:hover:before {color: black;}#sk-container-id-2 div.sk-estimator:hover label.sk-toggleable__label-arrow:before {color: black;}#sk-container-id-2 div.sk-toggleable__content {max-height: 0;max-width: 0;overflow: hidden;text-align: left;background-color: #f0f8ff;}#sk-container-id-2 div.sk-toggleable__content pre {margin: 0.2em;color: black;border-radius: 0.25em;background-color: #f0f8ff;}#sk-container-id-2 input.sk-toggleable__control:checked~div.sk-toggleable__content {max-height: 200px;max-width: 100%;overflow: auto;}#sk-container-id-2 input.sk-toggleable__control:checked~label.sk-toggleable__label-arrow:before {content: \"▾\";}#sk-container-id-2 div.sk-estimator input.sk-toggleable__control:checked~label.sk-toggleable__label {background-color: #d4ebff;}#sk-container-id-2 div.sk-label input.sk-toggleable__control:checked~label.sk-toggleable__label {background-color: #d4ebff;}#sk-container-id-2 input.sk-hidden--visually {border: 0;clip: rect(1px 1px 1px 1px);clip: rect(1px, 1px, 1px, 1px);height: 1px;margin: -1px;overflow: hidden;padding: 0;position: absolute;width: 1px;}#sk-container-id-2 div.sk-estimator {font-family: monospace;background-color: #f0f8ff;border: 1px dotted black;border-radius: 0.25em;box-sizing: border-box;margin-bottom: 0.5em;}#sk-container-id-2 div.sk-estimator:hover {background-color: #d4ebff;}#sk-container-id-2 div.sk-parallel-item::after {content: \"\";width: 100%;border-bottom: 1px solid gray;flex-grow: 1;}#sk-container-id-2 div.sk-label:hover label.sk-toggleable__label {background-color: #d4ebff;}#sk-container-id-2 div.sk-serial::before {content: \"\";position: absolute;border-left: 1px solid gray;box-sizing: border-box;top: 0;bottom: 0;left: 50%;z-index: 0;}#sk-container-id-2 div.sk-serial {display: flex;flex-direction: column;align-items: center;background-color: white;padding-right: 0.2em;padding-left: 0.2em;position: relative;}#sk-container-id-2 div.sk-item {position: relative;z-index: 1;}#sk-container-id-2 div.sk-parallel {display: flex;align-items: stretch;justify-content: center;background-color: white;position: relative;}#sk-container-id-2 div.sk-item::before, #sk-container-id-2 div.sk-parallel-item::before {content: \"\";position: absolute;border-left: 1px solid gray;box-sizing: border-box;top: 0;bottom: 0;left: 50%;z-index: -1;}#sk-container-id-2 div.sk-parallel-item {display: flex;flex-direction: column;z-index: 1;position: relative;background-color: white;}#sk-container-id-2 div.sk-parallel-item:first-child::after {align-self: flex-end;width: 50%;}#sk-container-id-2 div.sk-parallel-item:last-child::after {align-self: flex-start;width: 50%;}#sk-container-id-2 div.sk-parallel-item:only-child::after {width: 0;}#sk-container-id-2 div.sk-dashed-wrapped {border: 1px dashed gray;margin: 0 0.4em 0.5em 0.4em;box-sizing: border-box;padding-bottom: 0.4em;background-color: white;}#sk-container-id-2 div.sk-label label {font-family: monospace;font-weight: bold;display: inline-block;line-height: 1.2em;}#sk-container-id-2 div.sk-label-container {text-align: center;}#sk-container-id-2 div.sk-container {/* jupyter's `normalize.less` sets `[hidden] { display: none; }` but bootstrap.min.css set `[hidden] { display: none !important; }` so we also need the `!important` here to be able to override the default hidden behavior on the sphinx rendered scikit-learn.org. See: https://github.com/scikit-learn/scikit-learn/issues/21755 */display: inline-block !important;position: relative;}#sk-container-id-2 div.sk-text-repr-fallback {display: none;}</style><div id=\"sk-container-id-2\" class=\"sk-top-container\"><div class=\"sk-text-repr-fallback\"><pre>Pipeline(steps=[(&#x27;standardscaler&#x27;, StandardScaler()),\n",
       "                (&#x27;svc&#x27;, SVC(gamma=&#x27;auto&#x27;))])</pre><b>In a Jupyter environment, please rerun this cell to show the HTML representation or trust the notebook. <br />On GitHub, the HTML representation is unable to render, please try loading this page with nbviewer.org.</b></div><div class=\"sk-container\" hidden><div class=\"sk-item sk-dashed-wrapped\"><div class=\"sk-label-container\"><div class=\"sk-label sk-toggleable\"><input class=\"sk-toggleable__control sk-hidden--visually\" id=\"sk-estimator-id-2\" type=\"checkbox\" ><label for=\"sk-estimator-id-2\" class=\"sk-toggleable__label sk-toggleable__label-arrow\">Pipeline</label><div class=\"sk-toggleable__content\"><pre>Pipeline(steps=[(&#x27;standardscaler&#x27;, StandardScaler()),\n",
       "                (&#x27;svc&#x27;, SVC(gamma=&#x27;auto&#x27;))])</pre></div></div></div><div class=\"sk-serial\"><div class=\"sk-item\"><div class=\"sk-estimator sk-toggleable\"><input class=\"sk-toggleable__control sk-hidden--visually\" id=\"sk-estimator-id-3\" type=\"checkbox\" ><label for=\"sk-estimator-id-3\" class=\"sk-toggleable__label sk-toggleable__label-arrow\">StandardScaler</label><div class=\"sk-toggleable__content\"><pre>StandardScaler()</pre></div></div></div><div class=\"sk-item\"><div class=\"sk-estimator sk-toggleable\"><input class=\"sk-toggleable__control sk-hidden--visually\" id=\"sk-estimator-id-4\" type=\"checkbox\" ><label for=\"sk-estimator-id-4\" class=\"sk-toggleable__label sk-toggleable__label-arrow\">SVC</label><div class=\"sk-toggleable__content\"><pre>SVC(gamma=&#x27;auto&#x27;)</pre></div></div></div></div></div></div></div>"
      ],
      "text/plain": [
       "Pipeline(steps=[('standardscaler', StandardScaler()),\n",
       "                ('svc', SVC(gamma='auto'))])"
      ]
     },
     "execution_count": 47,
     "metadata": {},
     "output_type": "execute_result"
    }
   ],
   "source": [
    "clf = make_pipeline(StandardScaler(), SVC(gamma='auto'))\n",
    "clf.fit(X_trainSV, y_trainSV)"
   ]
  },
  {
   "cell_type": "code",
   "execution_count": 48,
   "id": "d1d93ab5",
   "metadata": {},
   "outputs": [
    {
     "name": "stdout",
     "output_type": "stream",
     "text": [
      "Train Score = 0.8,\n",
      "Test Score = 0.79\n"
     ]
    }
   ],
   "source": [
    "print(f'Train Score = {round(clf.score(X_trainSV, y_trainSV), 2)},\\nTest Score = {round(clf.score(X_testSV, y_testSV), 2)}')"
   ]
  },
  {
   "cell_type": "code",
   "execution_count": 49,
   "id": "fb5304a2",
   "metadata": {},
   "outputs": [],
   "source": [
    "cross_accuracy_logSV = cross_val_score(clf,  #estimator: the model that you want to evalueate\n",
    "                                     X_trainSV, # the training data\n",
    "                                     y_trainSV,  # the training data\n",
    "                                     cv = 5 , # number of cross validation datasets, k-folds\n",
    "                                     scoring = 'accuracy' # evaluation metric\n",
    "\n",
    ")\n",
    "\n",
    "CAL_SV=np.round_(cross_accuracy_logSV, 2)"
   ]
  },
  {
   "cell_type": "code",
   "execution_count": 50,
   "id": "50e70e76",
   "metadata": {},
   "outputs": [
    {
     "data": {
      "text/html": [
       "<div>\n",
       "<style scoped>\n",
       "    .dataframe tbody tr th:only-of-type {\n",
       "        vertical-align: middle;\n",
       "    }\n",
       "\n",
       "    .dataframe tbody tr th {\n",
       "        vertical-align: top;\n",
       "    }\n",
       "\n",
       "    .dataframe thead th {\n",
       "        text-align: right;\n",
       "    }\n",
       "</style>\n",
       "<table border=\"1\" class=\"dataframe\">\n",
       "  <thead>\n",
       "    <tr style=\"text-align: right;\">\n",
       "      <th></th>\n",
       "      <th>Model</th>\n",
       "      <th>Cross_Accuracy_Log</th>\n",
       "    </tr>\n",
       "  </thead>\n",
       "  <tbody>\n",
       "    <tr>\n",
       "      <th>0</th>\n",
       "      <td>Random Forest Classifier</td>\n",
       "      <td>[0.8, 0.8, 0.79, 0.81, 0.79]</td>\n",
       "    </tr>\n",
       "    <tr>\n",
       "      <th>1</th>\n",
       "      <td>Support Vector Machine</td>\n",
       "      <td>[0.79, 0.79, 0.77, 0.78, 0.79]</td>\n",
       "    </tr>\n",
       "  </tbody>\n",
       "</table>\n",
       "</div>"
      ],
      "text/plain": [
       "                      Model              Cross_Accuracy_Log\n",
       "0  Random Forest Classifier    [0.8, 0.8, 0.79, 0.81, 0.79]\n",
       "1    Support Vector Machine  [0.79, 0.79, 0.77, 0.78, 0.79]"
      ]
     },
     "execution_count": 50,
     "metadata": {},
     "output_type": "execute_result"
    }
   ],
   "source": [
    "results = pd.DataFrame({\n",
    "    'Model': ['Random Forest Classifier', 'Support Vector Machine'],\n",
    "    \n",
    "     'Cross_Accuracy_Log': [CAL_RFC, CAL_SV]\n",
    "})\n",
    "results"
   ]
  },
  {
   "cell_type": "markdown",
   "id": "3bcfc0b1",
   "metadata": {},
   "source": [
    "# Test"
   ]
  },
  {
   "cell_type": "code",
   "execution_count": 52,
   "id": "e14889b6",
   "metadata": {},
   "outputs": [
    {
     "data": {
      "text/html": [
       "<div>\n",
       "<style scoped>\n",
       "    .dataframe tbody tr th:only-of-type {\n",
       "        vertical-align: middle;\n",
       "    }\n",
       "\n",
       "    .dataframe tbody tr th {\n",
       "        vertical-align: top;\n",
       "    }\n",
       "\n",
       "    .dataframe thead th {\n",
       "        text-align: right;\n",
       "    }\n",
       "</style>\n",
       "<table border=\"1\" class=\"dataframe\">\n",
       "  <thead>\n",
       "    <tr style=\"text-align: right;\">\n",
       "      <th></th>\n",
       "      <th>passengerid</th>\n",
       "      <th>homeplanet</th>\n",
       "      <th>cryosleep</th>\n",
       "      <th>cabin</th>\n",
       "      <th>destination</th>\n",
       "      <th>age</th>\n",
       "      <th>vip</th>\n",
       "      <th>roomservice</th>\n",
       "      <th>foodcourt</th>\n",
       "      <th>shoppingmall</th>\n",
       "      <th>spa</th>\n",
       "      <th>vrdeck</th>\n",
       "      <th>name</th>\n",
       "    </tr>\n",
       "  </thead>\n",
       "  <tbody>\n",
       "    <tr>\n",
       "      <th>0</th>\n",
       "      <td>0013_01</td>\n",
       "      <td>Earth</td>\n",
       "      <td>True</td>\n",
       "      <td>G/3/S</td>\n",
       "      <td>TRAPPIST-1e</td>\n",
       "      <td>27.0</td>\n",
       "      <td>False</td>\n",
       "      <td>0.0</td>\n",
       "      <td>0.0</td>\n",
       "      <td>0.0</td>\n",
       "      <td>0.0</td>\n",
       "      <td>0.0</td>\n",
       "      <td>Nelly Carsoning</td>\n",
       "    </tr>\n",
       "    <tr>\n",
       "      <th>1</th>\n",
       "      <td>0018_01</td>\n",
       "      <td>Earth</td>\n",
       "      <td>False</td>\n",
       "      <td>F/4/S</td>\n",
       "      <td>TRAPPIST-1e</td>\n",
       "      <td>19.0</td>\n",
       "      <td>False</td>\n",
       "      <td>0.0</td>\n",
       "      <td>9.0</td>\n",
       "      <td>0.0</td>\n",
       "      <td>2823.0</td>\n",
       "      <td>0.0</td>\n",
       "      <td>Lerome Peckers</td>\n",
       "    </tr>\n",
       "    <tr>\n",
       "      <th>2</th>\n",
       "      <td>0019_01</td>\n",
       "      <td>Europa</td>\n",
       "      <td>True</td>\n",
       "      <td>C/0/S</td>\n",
       "      <td>55 Cancri e</td>\n",
       "      <td>31.0</td>\n",
       "      <td>False</td>\n",
       "      <td>0.0</td>\n",
       "      <td>0.0</td>\n",
       "      <td>0.0</td>\n",
       "      <td>0.0</td>\n",
       "      <td>0.0</td>\n",
       "      <td>Sabih Unhearfus</td>\n",
       "    </tr>\n",
       "    <tr>\n",
       "      <th>3</th>\n",
       "      <td>0021_01</td>\n",
       "      <td>Europa</td>\n",
       "      <td>False</td>\n",
       "      <td>C/1/S</td>\n",
       "      <td>TRAPPIST-1e</td>\n",
       "      <td>38.0</td>\n",
       "      <td>False</td>\n",
       "      <td>0.0</td>\n",
       "      <td>6652.0</td>\n",
       "      <td>0.0</td>\n",
       "      <td>181.0</td>\n",
       "      <td>585.0</td>\n",
       "      <td>Meratz Caltilter</td>\n",
       "    </tr>\n",
       "    <tr>\n",
       "      <th>4</th>\n",
       "      <td>0023_01</td>\n",
       "      <td>Earth</td>\n",
       "      <td>False</td>\n",
       "      <td>F/5/S</td>\n",
       "      <td>TRAPPIST-1e</td>\n",
       "      <td>20.0</td>\n",
       "      <td>False</td>\n",
       "      <td>10.0</td>\n",
       "      <td>0.0</td>\n",
       "      <td>635.0</td>\n",
       "      <td>0.0</td>\n",
       "      <td>0.0</td>\n",
       "      <td>Brence Harperez</td>\n",
       "    </tr>\n",
       "  </tbody>\n",
       "</table>\n",
       "</div>"
      ],
      "text/plain": [
       "  passengerid homeplanet cryosleep  cabin  destination   age    vip  \\\n",
       "0     0013_01      Earth      True  G/3/S  TRAPPIST-1e  27.0  False   \n",
       "1     0018_01      Earth     False  F/4/S  TRAPPIST-1e  19.0  False   \n",
       "2     0019_01     Europa      True  C/0/S  55 Cancri e  31.0  False   \n",
       "3     0021_01     Europa     False  C/1/S  TRAPPIST-1e  38.0  False   \n",
       "4     0023_01      Earth     False  F/5/S  TRAPPIST-1e  20.0  False   \n",
       "\n",
       "   roomservice  foodcourt  shoppingmall     spa  vrdeck              name  \n",
       "0          0.0        0.0           0.0     0.0     0.0   Nelly Carsoning  \n",
       "1          0.0        9.0           0.0  2823.0     0.0    Lerome Peckers  \n",
       "2          0.0        0.0           0.0     0.0     0.0   Sabih Unhearfus  \n",
       "3          0.0     6652.0           0.0   181.0   585.0  Meratz Caltilter  \n",
       "4         10.0        0.0         635.0     0.0     0.0   Brence Harperez  "
      ]
     },
     "execution_count": 52,
     "metadata": {},
     "output_type": "execute_result"
    }
   ],
   "source": [
    "test = pd.read_csv('data/test.csv', na_values = \"NA\")\n",
    "test.columns = test.columns.str.lower()\n",
    "test.head()"
   ]
  },
  {
   "cell_type": "code",
   "execution_count": 53,
   "id": "3ea5460d",
   "metadata": {},
   "outputs": [],
   "source": [
    "#I replaced all False values with 0 and True values with 1\n",
    "test = test.replace({True: 1, False: 0})"
   ]
  },
  {
   "cell_type": "code",
   "execution_count": 54,
   "id": "c6c15a1c",
   "metadata": {},
   "outputs": [
    {
     "data": {
      "text/plain": [
       "0"
      ]
     },
     "execution_count": 54,
     "metadata": {},
     "output_type": "execute_result"
    }
   ],
   "source": [
    "#Check for duplicated passenger info.  There isn't any to deal with.\n",
    "duplications_test = test.duplicated().sum()\n",
    "duplications_test"
   ]
  },
  {
   "cell_type": "code",
   "execution_count": 55,
   "id": "e7a862e3",
   "metadata": {},
   "outputs": [
    {
     "data": {
      "text/plain": [
       "passengerid       0\n",
       "homeplanet       87\n",
       "cryosleep        93\n",
       "cabin           100\n",
       "destination      92\n",
       "age              91\n",
       "vip              93\n",
       "roomservice      82\n",
       "foodcourt       106\n",
       "shoppingmall     98\n",
       "spa             101\n",
       "vrdeck           80\n",
       "name             94\n",
       "dtype: int64"
      ]
     },
     "execution_count": 55,
     "metadata": {},
     "output_type": "execute_result"
    }
   ],
   "source": [
    "test.isna().sum()"
   ]
  },
  {
   "cell_type": "code",
   "execution_count": 56,
   "id": "b396702f",
   "metadata": {},
   "outputs": [],
   "source": [
    "imputer_numerical(test)\n",
    "imputer_categorical(test)"
   ]
  },
  {
   "cell_type": "code",
   "execution_count": 57,
   "id": "81e98606",
   "metadata": {},
   "outputs": [
    {
     "data": {
      "text/plain": [
       "passengerid       0\n",
       "homeplanet        0\n",
       "cryosleep         0\n",
       "cabin           100\n",
       "destination       0\n",
       "age               0\n",
       "vip               0\n",
       "roomservice       0\n",
       "foodcourt         0\n",
       "shoppingmall      0\n",
       "spa               0\n",
       "vrdeck            0\n",
       "name             94\n",
       "dtype: int64"
      ]
     },
     "execution_count": 57,
     "metadata": {},
     "output_type": "execute_result"
    }
   ],
   "source": [
    "test.isna().sum()"
   ]
  },
  {
   "cell_type": "code",
   "execution_count": 58,
   "id": "5e4d26cb",
   "metadata": {},
   "outputs": [],
   "source": [
    "#split the passengerid so we can establish groups (who is travelling with who).  \n",
    "#This dataset does not distinguish between families or friend groups\n",
    "test[['passengerid_1','passengerid_2']] = test['passengerid'].str.split('_', 2, expand=True)"
   ]
  },
  {
   "cell_type": "code",
   "execution_count": 59,
   "id": "b60e6378",
   "metadata": {},
   "outputs": [],
   "source": [
    "#change the values in the 'fare' column to integers for ease of calculations\n",
    "test['passengerid_1']=test['passengerid_1'].astype(int)\n",
    "test['passengerid_2']=test['passengerid_2'].astype(int)"
   ]
  },
  {
   "cell_type": "code",
   "execution_count": 60,
   "id": "88b90ec9",
   "metadata": {},
   "outputs": [],
   "source": [
    "#I will factorise homeplanet and destination\n",
    "test['homeplanet_f'] = pd.factorize(test['homeplanet'])[0]\n",
    "test['destination_f'] = pd.factorize(test['destination'])[0]"
   ]
  },
  {
   "cell_type": "code",
   "execution_count": 61,
   "id": "786a1d12",
   "metadata": {},
   "outputs": [
    {
     "name": "stdout",
     "output_type": "stream",
     "text": [
      "<class 'pandas.core.frame.DataFrame'>\n",
      "RangeIndex: 4277 entries, 0 to 4276\n",
      "Data columns (total 17 columns):\n",
      " #   Column         Non-Null Count  Dtype  \n",
      "---  ------         --------------  -----  \n",
      " 0   passengerid    4277 non-null   object \n",
      " 1   homeplanet     4277 non-null   object \n",
      " 2   cryosleep      4277 non-null   float64\n",
      " 3   cabin          4177 non-null   object \n",
      " 4   destination    4277 non-null   object \n",
      " 5   age            4277 non-null   float64\n",
      " 6   vip            4277 non-null   float64\n",
      " 7   roomservice    4277 non-null   float64\n",
      " 8   foodcourt      4277 non-null   float64\n",
      " 9   shoppingmall   4277 non-null   float64\n",
      " 10  spa            4277 non-null   float64\n",
      " 11  vrdeck         4277 non-null   float64\n",
      " 12  name           4183 non-null   object \n",
      " 13  passengerid_1  4277 non-null   int64  \n",
      " 14  passengerid_2  4277 non-null   int64  \n",
      " 15  homeplanet_f   4277 non-null   int64  \n",
      " 16  destination_f  4277 non-null   int64  \n",
      "dtypes: float64(8), int64(4), object(5)\n",
      "memory usage: 568.2+ KB\n"
     ]
    }
   ],
   "source": [
    "test.info()"
   ]
  },
  {
   "cell_type": "code",
   "execution_count": 62,
   "id": "bb89090d",
   "metadata": {},
   "outputs": [],
   "source": [
    "X_test = test.drop(['passengerid','homeplanet', 'cabin', 'name','destination'], axis = 1)"
   ]
  },
  {
   "cell_type": "code",
   "execution_count": 63,
   "id": "ddacc48c",
   "metadata": {},
   "outputs": [],
   "source": [
    "#predictions on real data\n",
    "y_pred = rfc.predict(X_test)"
   ]
  },
  {
   "cell_type": "code",
   "execution_count": 64,
   "id": "72795e69",
   "metadata": {},
   "outputs": [],
   "source": [
    "#I replaced all False values with 0 and True values with 1\n",
    "y_pred_bool = y_pred.astype(bool)"
   ]
  },
  {
   "cell_type": "code",
   "execution_count": 65,
   "id": "af9b1629",
   "metadata": {},
   "outputs": [
    {
     "name": "stdout",
     "output_type": "stream",
     "text": [
      "Your submission was successfully saved!\n"
     ]
    }
   ],
   "source": [
    "output = pd.DataFrame({'PassengerId': test.passengerid, 'Transported': y_pred})\n",
    "output.to_csv('submission_Nov2_rfc.csv', index=False)\n",
    "print(\"Your submission was successfully saved!\")"
   ]
  },
  {
   "cell_type": "markdown",
   "id": "ed0ade0b",
   "metadata": {},
   "source": [
    "# Logistic Regression"
   ]
  },
  {
   "cell_type": "code",
   "execution_count": 66,
   "id": "e07357d8",
   "metadata": {},
   "outputs": [],
   "source": [
    "X_trainLR, X_testLR, y_trainLR, y_testLR = train_test_split(X,y, test_size = 0.20)"
   ]
  },
  {
   "cell_type": "code",
   "execution_count": 67,
   "id": "dc1f83d6",
   "metadata": {},
   "outputs": [
    {
     "data": {
      "text/plain": [
       "((6954, 12), (6954,), (1739, 12), (1739,))"
      ]
     },
     "execution_count": 67,
     "metadata": {},
     "output_type": "execute_result"
    }
   ],
   "source": [
    "# check the shape\n",
    "X_trainLR.shape, y_trainLR.shape, X_testLR.shape, y_testLR.shape"
   ]
  },
  {
   "cell_type": "code",
   "execution_count": 69,
   "id": "9c938795",
   "metadata": {},
   "outputs": [
    {
     "data": {
      "text/html": [
       "<style>#sk-container-id-3 {color: black;background-color: white;}#sk-container-id-3 pre{padding: 0;}#sk-container-id-3 div.sk-toggleable {background-color: white;}#sk-container-id-3 label.sk-toggleable__label {cursor: pointer;display: block;width: 100%;margin-bottom: 0;padding: 0.3em;box-sizing: border-box;text-align: center;}#sk-container-id-3 label.sk-toggleable__label-arrow:before {content: \"▸\";float: left;margin-right: 0.25em;color: #696969;}#sk-container-id-3 label.sk-toggleable__label-arrow:hover:before {color: black;}#sk-container-id-3 div.sk-estimator:hover label.sk-toggleable__label-arrow:before {color: black;}#sk-container-id-3 div.sk-toggleable__content {max-height: 0;max-width: 0;overflow: hidden;text-align: left;background-color: #f0f8ff;}#sk-container-id-3 div.sk-toggleable__content pre {margin: 0.2em;color: black;border-radius: 0.25em;background-color: #f0f8ff;}#sk-container-id-3 input.sk-toggleable__control:checked~div.sk-toggleable__content {max-height: 200px;max-width: 100%;overflow: auto;}#sk-container-id-3 input.sk-toggleable__control:checked~label.sk-toggleable__label-arrow:before {content: \"▾\";}#sk-container-id-3 div.sk-estimator input.sk-toggleable__control:checked~label.sk-toggleable__label {background-color: #d4ebff;}#sk-container-id-3 div.sk-label input.sk-toggleable__control:checked~label.sk-toggleable__label {background-color: #d4ebff;}#sk-container-id-3 input.sk-hidden--visually {border: 0;clip: rect(1px 1px 1px 1px);clip: rect(1px, 1px, 1px, 1px);height: 1px;margin: -1px;overflow: hidden;padding: 0;position: absolute;width: 1px;}#sk-container-id-3 div.sk-estimator {font-family: monospace;background-color: #f0f8ff;border: 1px dotted black;border-radius: 0.25em;box-sizing: border-box;margin-bottom: 0.5em;}#sk-container-id-3 div.sk-estimator:hover {background-color: #d4ebff;}#sk-container-id-3 div.sk-parallel-item::after {content: \"\";width: 100%;border-bottom: 1px solid gray;flex-grow: 1;}#sk-container-id-3 div.sk-label:hover label.sk-toggleable__label {background-color: #d4ebff;}#sk-container-id-3 div.sk-serial::before {content: \"\";position: absolute;border-left: 1px solid gray;box-sizing: border-box;top: 0;bottom: 0;left: 50%;z-index: 0;}#sk-container-id-3 div.sk-serial {display: flex;flex-direction: column;align-items: center;background-color: white;padding-right: 0.2em;padding-left: 0.2em;position: relative;}#sk-container-id-3 div.sk-item {position: relative;z-index: 1;}#sk-container-id-3 div.sk-parallel {display: flex;align-items: stretch;justify-content: center;background-color: white;position: relative;}#sk-container-id-3 div.sk-item::before, #sk-container-id-3 div.sk-parallel-item::before {content: \"\";position: absolute;border-left: 1px solid gray;box-sizing: border-box;top: 0;bottom: 0;left: 50%;z-index: -1;}#sk-container-id-3 div.sk-parallel-item {display: flex;flex-direction: column;z-index: 1;position: relative;background-color: white;}#sk-container-id-3 div.sk-parallel-item:first-child::after {align-self: flex-end;width: 50%;}#sk-container-id-3 div.sk-parallel-item:last-child::after {align-self: flex-start;width: 50%;}#sk-container-id-3 div.sk-parallel-item:only-child::after {width: 0;}#sk-container-id-3 div.sk-dashed-wrapped {border: 1px dashed gray;margin: 0 0.4em 0.5em 0.4em;box-sizing: border-box;padding-bottom: 0.4em;background-color: white;}#sk-container-id-3 div.sk-label label {font-family: monospace;font-weight: bold;display: inline-block;line-height: 1.2em;}#sk-container-id-3 div.sk-label-container {text-align: center;}#sk-container-id-3 div.sk-container {/* jupyter's `normalize.less` sets `[hidden] { display: none; }` but bootstrap.min.css set `[hidden] { display: none !important; }` so we also need the `!important` here to be able to override the default hidden behavior on the sphinx rendered scikit-learn.org. See: https://github.com/scikit-learn/scikit-learn/issues/21755 */display: inline-block !important;position: relative;}#sk-container-id-3 div.sk-text-repr-fallback {display: none;}</style><div id=\"sk-container-id-3\" class=\"sk-top-container\"><div class=\"sk-text-repr-fallback\"><pre>LogisticRegression(max_iter=1000)</pre><b>In a Jupyter environment, please rerun this cell to show the HTML representation or trust the notebook. <br />On GitHub, the HTML representation is unable to render, please try loading this page with nbviewer.org.</b></div><div class=\"sk-container\" hidden><div class=\"sk-item\"><div class=\"sk-estimator sk-toggleable\"><input class=\"sk-toggleable__control sk-hidden--visually\" id=\"sk-estimator-id-5\" type=\"checkbox\" checked><label for=\"sk-estimator-id-5\" class=\"sk-toggleable__label sk-toggleable__label-arrow\">LogisticRegression</label><div class=\"sk-toggleable__content\"><pre>LogisticRegression(max_iter=1000)</pre></div></div></div></div></div>"
      ],
      "text/plain": [
       "LogisticRegression(max_iter=1000)"
      ]
     },
     "execution_count": 69,
     "metadata": {},
     "output_type": "execute_result"
    }
   ],
   "source": [
    "# build and fit the model\n",
    "m_lgr = LogisticRegression(max_iter=1000) \n",
    "\n",
    "m_lgr.fit(X_trainLR,y_trainLR)"
   ]
  },
  {
   "cell_type": "code",
   "execution_count": 70,
   "id": "47d48abd",
   "metadata": {},
   "outputs": [
    {
     "data": {
      "text/plain": [
       "(6954,)"
      ]
     },
     "execution_count": 70,
     "metadata": {},
     "output_type": "execute_result"
    }
   ],
   "source": [
    "# Calculate the prediction on the training dataset\n",
    "y_predLR = m_lgr.predict(X_trainLR)\n",
    "y_predLR.shape"
   ]
  },
  {
   "cell_type": "code",
   "execution_count": 72,
   "id": "337af85c",
   "metadata": {},
   "outputs": [
    {
     "data": {
      "text/plain": [
       "0.7871728501581824"
      ]
     },
     "execution_count": 72,
     "metadata": {},
     "output_type": "execute_result"
    }
   ],
   "source": [
    "# Calculate the accuracy\n",
    "accuracy = m_lgr.score(X_trainLR,y_trainLR)"
   ]
  },
  {
   "cell_type": "code",
   "execution_count": 73,
   "id": "f85e7b81",
   "metadata": {},
   "outputs": [
    {
     "name": "stdout",
     "output_type": "stream",
     "text": [
      "The Logistic regression has achieved an: \n",
      " \n",
      "accuracy = 0.79\n",
      "\n",
      "precision = 0.78 \n",
      " \n",
      "recall = 0.81\n",
      "\n",
      "f1 = 0.79\n"
     ]
    }
   ],
   "source": [
    "print(f\"\"\"The Logistic regression has achieved an: \\n \n",
    "accuracy = {round(accuracy,2)}\\n\n",
    "precision = {round(precision_score(y_trainLR,y_predLR),2)} \\n \n",
    "recall = {round(recall_score(y_trainLR,y_predLR),2)}\\n\n",
    "f1 = {round(f1_score(y_trainLR,y_predLR),2)}\"\"\")"
   ]
  },
  {
   "cell_type": "code",
   "execution_count": 74,
   "id": "dc650da4",
   "metadata": {},
   "outputs": [
    {
     "data": {
      "text/plain": [
       "array([0.8 , 0.78, 0.79, 0.77, 0.8 ])"
      ]
     },
     "execution_count": 74,
     "metadata": {},
     "output_type": "execute_result"
    }
   ],
   "source": [
    "cross_accuracy_logLR = cross_val_score(m_lgr,  #estimator: the model that you want to evalueate\n",
    "                                     X_trainLR, # the training data\n",
    "                                     y_trainLR,  # the training data\n",
    "                                     cv = 5 , # number of cross validation datasets, k-folds\n",
    "                                     scoring = 'accuracy' # evaluation metric\n",
    "\n",
    ")\n",
    "\n",
    "CAL_LR=np.round_(cross_accuracy_logLR, 2)\n",
    "CAL_LR"
   ]
  },
  {
   "cell_type": "code",
   "execution_count": 75,
   "id": "ff224255",
   "metadata": {},
   "outputs": [
    {
     "data": {
      "text/plain": [
       "(1739,)"
      ]
     },
     "execution_count": 75,
     "metadata": {},
     "output_type": "execute_result"
    }
   ],
   "source": [
    "# Calculate the prediction on the training dataset\n",
    "y_pred_testLR = m_lgr.predict(X_testLR)\n",
    "y_pred_testLR.shape"
   ]
  },
  {
   "cell_type": "code",
   "execution_count": 76,
   "id": "35dbfe44",
   "metadata": {},
   "outputs": [],
   "source": [
    "# Calculate the accuracy\n",
    "accuracy_testLR = m_lgr.score(X_testLR,y_testLR)"
   ]
  },
  {
   "cell_type": "code",
   "execution_count": 77,
   "id": "339fa045",
   "metadata": {},
   "outputs": [
    {
     "name": "stdout",
     "output_type": "stream",
     "text": [
      "The Logistic regression on the test data has achieved an: \n",
      " \n",
      "accuracy = 0.79\n",
      "\n",
      "precision = 0.77 \n",
      " \n",
      "recall = 0.83\n",
      "\n",
      "f1 = 0.8\n"
     ]
    }
   ],
   "source": [
    "print(f\"\"\"The Logistic regression on the test data has achieved an: \\n \n",
    "accuracy = {round(accuracy_testLR,2)}\\n\n",
    "precision = {round(precision_score(y_testLR,y_pred_testLR),2)} \\n \n",
    "recall = {round(recall_score(y_testLR,y_pred_testLR),2)}\\n\n",
    "f1 = {round(f1_score(y_testLR,y_pred_testLR),2)}\"\"\")"
   ]
  },
  {
   "cell_type": "code",
   "execution_count": null,
   "id": "c7bd11ba",
   "metadata": {},
   "outputs": [],
   "source": []
  }
 ],
 "metadata": {
  "hide_input": false,
  "kernelspec": {
   "display_name": "Python 3 (ipykernel)",
   "language": "python",
   "name": "python3"
  },
  "language_info": {
   "codemirror_mode": {
    "name": "ipython",
    "version": 3
   },
   "file_extension": ".py",
   "mimetype": "text/x-python",
   "name": "python",
   "nbconvert_exporter": "python",
   "pygments_lexer": "ipython3",
   "version": "3.9.10"
  },
  "toc": {
   "base_numbering": 1,
   "nav_menu": {},
   "number_sections": true,
   "sideBar": true,
   "skip_h1_title": false,
   "title_cell": "Table of Contents",
   "title_sidebar": "Contents",
   "toc_cell": false,
   "toc_position": {},
   "toc_section_display": true,
   "toc_window_display": false
  }
 },
 "nbformat": 4,
 "nbformat_minor": 5
}
